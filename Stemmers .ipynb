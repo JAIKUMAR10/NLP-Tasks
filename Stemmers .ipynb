{
 "cells": [
  {
   "cell_type": "code",
   "execution_count": 12,
   "metadata": {},
   "outputs": [
    {
     "data": {
      "text/plain": [
       "'s'"
      ]
     },
     "execution_count": 12,
     "metadata": {},
     "output_type": "execute_result"
    }
   ],
   "source": [
    "#Experimenting the regexp stemmer\n",
    "import nltk\n",
    "from nltk.stem import RegexpStemmer\n",
    "#Perform the operation of the stemmer\n",
    "stemmerregexp=RegexpStemmer('ing');\n",
    "stemmerregexp.stem('sing')"
   ]
  },
  {
   "cell_type": "code",
   "execution_count": 13,
   "metadata": {},
   "outputs": [
    {
     "name": "stdout",
     "output_type": "stream",
     "text": [
      "je suis j\n"
     ]
    }
   ],
   "source": [
    "#Experimenting the snowball stemmer\n",
    "import nltk\n",
    "from nltk.stem import SnowballStemmer\n",
    "SnowballStemmer.languages\n",
    "#Experimenting the snowball stemmer\n",
    "frenchStemmer=SnowballStemmer('french');\n",
    "#Perform the operation of the stemmer\n",
    "print(frenchStemmer.stem('Je suis Jai'));"
   ]
  },
  {
   "cell_type": "code",
   "execution_count": 14,
   "metadata": {},
   "outputs": [
    {
     "name": "stdout",
     "output_type": "stream",
     "text": [
      "cactus\n",
      "mouse\n",
      "rock\n"
     ]
    }
   ],
   "source": [
    "#Experimenting the wordnet lemmatizer\n",
    "from nltk.stem import WordNetLemmatizer\n",
    "#initialize the lemmatzier\n",
    "lemmatizer=WordNetLemmatizer();\n",
    "#Perform the operation of the stemmer\n",
    "print(lemmatizer.lemmatize(\"cacti\"))\n",
    "print(lemmatizer.lemmatize(\"mice\"))\n",
    "print(lemmatizer.lemmatize(\"rocks\"))"
   ]
  },
  {
   "cell_type": "code",
   "execution_count": 15,
   "metadata": {},
   "outputs": [
    {
     "name": "stdout",
     "output_type": "stream",
     "text": [
      "Am quick brown fox jump over a lazi dog\n"
     ]
    }
   ],
   "source": [
    "#Experimenting the Porter stemmer\n",
    "from nltk.stem import PorterStemmer\n",
    "#initialize the stemmer\n",
    "stemmer=PorterStemmer()\n",
    "#initialize the sentence\n",
    "example=\"Am quick brown fox jumps over a lazy dog\"\n",
    "#PErform the operation of the stemmer \n",
    "example=[stemmer.stem(token) for token in example.split(\" \")]\n",
    "print(\" \".join(example))"
   ]
  }
 ],
 "metadata": {
  "kernelspec": {
   "display_name": "Python 3",
   "language": "python",
   "name": "python3"
  },
  "language_info": {
   "codemirror_mode": {
    "name": "ipython",
    "version": 3
   },
   "file_extension": ".py",
   "mimetype": "text/x-python",
   "name": "python",
   "nbconvert_exporter": "python",
   "pygments_lexer": "ipython3",
   "version": "3.7.3"
  }
 },
 "nbformat": 4,
 "nbformat_minor": 2
}
